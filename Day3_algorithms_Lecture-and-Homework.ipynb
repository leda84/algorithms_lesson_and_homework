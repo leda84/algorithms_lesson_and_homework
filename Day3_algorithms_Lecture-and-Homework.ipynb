{
 "cells": [
  {
   "cell_type": "markdown",
   "metadata": {},
   "source": [
    "# Algorithms, Binary Search & Linked Lists"
   ]
  },
  {
   "cell_type": "markdown",
   "metadata": {},
   "source": [
    "## Tasks Today:\n",
    " \n",
    "1) <b>In-Place Algorithms</b> <br>\n",
    " &nbsp;&nbsp;&nbsp;&nbsp; a) Syntax <br>\n",
    " &nbsp;&nbsp;&nbsp;&nbsp; a) Out of Place Algorithm <br>\n",
    " &nbsp;&nbsp;&nbsp;&nbsp; b) In-Class Exercise #1 <br>\n",
    "2) <b>Two Pointers</b> <br>\n",
    "3) <b>Linked Lists</b> <br>\n",
    "4) <b>Merge Sort</b> <br>\n",
    " &nbsp;&nbsp;&nbsp;&nbsp; a) Video on Algorithms <br>\n",
    " &nbsp;&nbsp;&nbsp;&nbsp; b) How it Works <br>\n",
    "5) <b>Exercises</b> <br>\n",
    " &nbsp;&nbsp;&nbsp;&nbsp; a) Exercise #1 - Reverse a List in Place Using an In-Place Algorithm <br>\n",
    " &nbsp;&nbsp;&nbsp;&nbsp; b) Exercise #2 - Find Distinct Words <br>\n",
    " &nbsp;&nbsp;&nbsp;&nbsp; c) Exercise #3 - Write a program to implement a Linear Search Algorithm. <br>"
   ]
  },
  {
   "cell_type": "markdown",
   "metadata": {},
   "source": [
    "## In-Place Algorithms"
   ]
  },
  {
   "cell_type": "markdown",
   "metadata": {},
   "source": [
    "#### Syntax"
   ]
  },
  {
   "cell_type": "code",
   "execution_count": null,
   "metadata": {},
   "outputs": [],
   "source": [
    "#in place = without creating any other data structures/optimizes space\n",
    "# var[i], var[i+1] = var[i+1], var[i]\n",
    "#sometimes known as swap algorithm\n",
    "\n",
    "def swap(alist,x,y,z):\n",
    "    alist[x],alist[y],alist[z] = alist[z],alist[y],alist[x]\n",
    "    return alist\n",
    "my_list = [10,20,25]\n",
    "\n",
    "print(f'my_list before swap: {my_list}')\n",
    "\n",
    "swap(my_list,0,1,2)\n",
    "\n",
    "print(f'my_list after swap: {my_list}')"
   ]
  },
  {
   "cell_type": "markdown",
   "metadata": {},
   "source": [
    "#### Out of Place Algorithm"
   ]
  },
  {
   "cell_type": "code",
   "execution_count": null,
   "metadata": {},
   "outputs": [],
   "source": [
    "#not swapping but is reversing the list completely\n",
    "# this also copies the list to another place in memory\n",
    "\n",
    "my_list_copy = my_list[::-1]\n",
    "print(my_list_copy)\n",
    "\n",
    "array = ['a','b','c','d']\n",
    "new_array = ['a'] * len(array)\n",
    "print(f'array before: {array}')\n",
    "      \n",
    "length = len(array) - 1\n",
    "      \n",
    "for i in range(length):\n",
    "      new_array[i] = array[length -i]\n",
    "array = new_array\n",
    "print(f'after:{array}')"
   ]
  },
  {
   "cell_type": "markdown",
   "metadata": {},
   "source": [
    "#### In-Class Exercise #1 <br>\n",
    "<p>Write a function that takes in four arguments (list, index1, index2, index3), and swaps those three positions in the list passed in.</p>"
   ]
  },
  {
   "cell_type": "code",
   "execution_count": null,
   "metadata": {},
   "outputs": [],
   "source": [
    "\n",
    "\n",
    "def swapping(list, a, b, c, d):\n",
    "    list[a],list[b],list[c], list[d] = list[b], list[c], list[d], list[a]\n",
    "    return list\n",
    "l_1 = [10, 4, 3, 8, 4, 2, 6]\n",
    "\n",
    "\n",
    "print(f'l_1 before swap: {l_1}')\n",
    "#pick the list and the index of each one you want to switch\n",
    "swapping(l_1,3,4,5,6)\n",
    "\n",
    "print(f'l_1 after swap: {l_1}')"
   ]
  },
  {
   "cell_type": "markdown",
   "metadata": {},
   "source": [
    "## Two Pointers"
   ]
  },
  {
   "cell_type": "markdown",
   "metadata": {},
   "source": [
    "#### Syntax"
   ]
  },
  {
   "cell_type": "code",
   "execution_count": null,
   "metadata": {},
   "outputs": [],
   "source": [
    "# var[i], var[i+1] = var[i+1], var[i]\n",
    "# creating pointers to set our list\n",
    "# we will use two pointers to swap. This can be used in a while loop(in most cases)\n",
    "\n",
    "def twoPointers(alist):\n",
    "    #creation of pointers\n",
    "    left = 0\n",
    "    right = len(alist) -1 #to index to the last in list, go back one from the end length\n",
    "    while left <= right: #loop runs until two points meet together\n",
    "        alist[left],alist[right] = alist[right],alist[left]\n",
    "        left += 1\n",
    "        right -= 1\n",
    "    return alist\n",
    "\n",
    "my_list2 = [1,2,3,12,19,24,88,100,7]\n",
    "\n",
    "twoPointers(my_list2)"
   ]
  },
  {
   "cell_type": "markdown",
   "metadata": {},
   "source": [
    "#### Video of Algorithms <br>\n",
    "<p>Watch the video about algorithms.</p>\n",
    "\n",
    "https://www.youtube.com/watch?v=Q9HjeFD62Uk\n",
    "\n",
    "https://www.youtube.com/watch?v=kPRA0W1kECg\n",
    "\n",
    "https://www.youtube.com/watch?v=ZZuD6iUe3Pc"
   ]
  },
  {
   "cell_type": "markdown",
   "metadata": {},
   "source": [
    "# Sorting Algorithms"
   ]
  },
  {
   "cell_type": "markdown",
   "metadata": {},
   "source": [
    "#### Bubble Sort\n",
    "\n",
    "Worst Case: O(n^2) Time - O(1) Space"
   ]
  },
  {
   "cell_type": "code",
   "execution_count": null,
   "metadata": {},
   "outputs": [],
   "source": [
    "# time complexity= how long it takes to run\n",
    "# space complexity = how much space it takes to run\n",
    "# Best Case O(n) - Linear time(kind of like a for loop, as many steps as there are inputs)\n",
    "\n",
    "def swap(i,j, array):\n",
    "    array[i], array[j] = array[j], array[i] # make them equal to themselves swapped\n",
    "    \n",
    "def bubbleSort(array):\n",
    "    isSorted = False    # Flag is to stop the function at the end when it is all sorted\n",
    "    while not isSorted:\n",
    "        isSorted = True\n",
    "        for num in range(len(array)-1):\n",
    "            if array[num] > array[num + 1]:\n",
    "                swap(num,num + 1, array)\n",
    "                isSorted = False\n",
    "    return array\n",
    "\n",
    "bubbleSort([22,55,88,44,1,100,34,66])"
   ]
  },
  {
   "cell_type": "code",
   "execution_count": null,
   "metadata": {},
   "outputs": [],
   "source": [
    "# Christian's Notes\n",
    "\n",
    "# Best Case: O(n) - Linear\n",
    "def swap(i,j, array):\n",
    "    array[i],array[j] = array[j],array[i]\n",
    "    \n",
    "def bubbleSort(array):\n",
    "    # initially define isSorted as False so we can\n",
    "    # execute the while loop\n",
    "    isSorted = False\n",
    "    # while the list is not sorted, repeat the following:\n",
    "    while not isSorted:\n",
    "        # assume the list is sorted\n",
    "        isSorted = True\n",
    "        # crawl along the list from the beginning to the end\n",
    "        for num in range(len(array) - 1):\n",
    "            # if the item on the left is greater \n",
    "            # than the item on the right\n",
    "            if array[num] > array[num + 1]:\n",
    "                # swap them so the greater item goes on the right\n",
    "                swap(num, num + 1, array)\n",
    "                # because we had to make the swap,\n",
    "                # the list must not have been sorted\n",
    "                isSorted = False\n",
    "    return array\n",
    "\n",
    "bubbleSort([22,55,88,44,1,100,34,66])"
   ]
  },
  {
   "cell_type": "markdown",
   "metadata": {},
   "source": [
    "##### Insertion Sort\n",
    "\n",
    "Worst Case: O(n^2) time - O(1)space"
   ]
  },
  {
   "cell_type": "code",
   "execution_count": null,
   "metadata": {},
   "outputs": [],
   "source": [
    "def swap(i,j,array):\n",
    "    array[i],array[j] = array[j],array[i]\n",
    "    \n",
    "def insertionSort(array):\n",
    "    #range start at 1 because we assume that 0 is in right place\n",
    "    for i in range(1,len(array)):\n",
    "        j = i\n",
    "        while j > 0 and array(j) < array(j-1):\n",
    "            swap(j, j-1,array)\n",
    "            j -= 1 # this is where it moves back a space to work with another number\n",
    "    return array\n",
    "\n",
    "insertionSort([22,55,88,44,1,100,34,66])"
   ]
  },
  {
   "cell_type": "markdown",
   "metadata": {},
   "source": [
    "## Merge Sort"
   ]
  },
  {
   "cell_type": "markdown",
   "metadata": {},
   "source": [
    "#### How it Works"
   ]
  },
  {
   "cell_type": "code",
   "execution_count": null,
   "metadata": {},
   "outputs": [],
   "source": [
    "# Splits the list into halves over and over until it can't split.\n",
    "# Starts comparing one with the other and resorting the array pieces \n",
    "# then compared the pieces to eachother to re-sort that bigger piece of array\n",
    "# at end, re-sorts the initial/full array using the pieces to piece it together\n",
    "\n",
    "# Step 1: Split everything into it's own group\n",
    "# Step 2: From left to right, merge the two groups togther\n",
    "# Step 3: While merging, place each item in correct position within the merged group\n",
    "# Step 4: ContinueSteps 3-4 until we have 1 group left\n",
    "\n",
    "from random import randint  # used to generate a random list of integers 0-20\n",
    "\n",
    "nums = [randint(0,20) for i in range(5)] # generating a random list and saving it to variable nums\n",
    "\n",
    "# Write merge sort\n",
    "def mergeSort(alist):\n",
    "    print('Splitting....', alist)\n",
    "    \n",
    "    # Step 1: divide the array into equal parts(as much as possible)\n",
    "    if len(alist) > 1:\n",
    "        mid = len(alist) // 2\n",
    "        lefthalf = alist[:mid]\n",
    "        righthalf = alist[mid:]\n",
    "        \n",
    "        #recursively call mergeSort to perform the splits if needed\n",
    "        # Then merge once  the splits are done\n",
    "        mergeSort(lefthalf)\n",
    "        mergeSort(righthalf)\n",
    "        \n",
    "        # Index pointers for our lists\n",
    "        l = 0 # l is pointer for left half\n",
    "        r = 0 # r is pointer for right half\n",
    "        m = 0 # m is pointer for the main array\n",
    "        \n",
    "    # Step 2: Compare Left and Right then merge\n",
    "        while l < len(lefthalf) and r < len(righthalf):\n",
    "            if lefthalf[l] < righthalf[r]:\n",
    "                alist[m] = lefthalf[l]\n",
    "                l = l + 1 # increment to keep going\n",
    "            else:\n",
    "                alist[m] = righthalf[r]\n",
    "                r += 1\n",
    "            m = m + 1\n",
    "            \n",
    "    # Step 3: While merging we make sure that we place items in the correct position\n",
    "        while l < len(lefthalf):\n",
    "            alist[m] = lefthalf[l]\n",
    "            l = l + 1\n",
    "            m = m + 1\n",
    "        while r < len(righthalf):\n",
    "            alist[m] = righthalf[r]\n",
    "            r = r + 1\n",
    "            m = m + 1\n",
    "    print('Merging:  ', alist) # should be each of our lists merging togethr\n",
    "    return alist\n",
    "\n",
    "mergeSort(nums)"
   ]
  },
  {
   "cell_type": "markdown",
   "metadata": {},
   "source": [
    "# Binary Search\n",
    "\n",
    "The Binary Search algorithm works by finding the number in the middle of a given array and comparing it to the target. Given that the array is sorted\n",
    "\n",
    "* The worst case run time for this algorithm is `O(log(n))`"
   ]
  },
  {
   "cell_type": "code",
   "execution_count": null,
   "metadata": {},
   "outputs": [],
   "source": [
    "# less == left\n",
    "# greater == right\n",
    "# List MUST BE sorted\n",
    "\n",
    "#helper function\n",
    "def binarySearchHelperFunction(array, target, left, right):\n",
    "    while left <= right:\n",
    "        middle = (left + right) // 2\n",
    "        potentialMatch = array[middle]\n",
    "        if target == potentialMatch:\n",
    "            return f'The index is {middle}'\n",
    "        elif target < potentialMatch:\n",
    "            right = middle - 1\n",
    "        else:\n",
    "            left = middle + 1\n",
    "    return - 1\n",
    "\n",
    "def binarySearch(array,target):\n",
    "    return binarySearchHelperFunction(array, target, 0, len(array)- 1)\n",
    "\n",
    "the_list = [22,44,55,66,88,100]\n",
    "\n",
    "binarySearch(the_list,88)"
   ]
  },
  {
   "cell_type": "markdown",
   "metadata": {},
   "source": [
    "# Exercises"
   ]
  },
  {
   "cell_type": "markdown",
   "metadata": {},
   "source": [
    "### Exercise #1 <br>\n",
    "<p>Reverse the list below in-place using an in-place algorithm.<br>For extra credit: Reverse the strings at the same time.</p>"
   ]
  },
  {
   "cell_type": "code",
   "execution_count": null,
   "metadata": {},
   "outputs": [],
   "source": [
    "words = ['this' , 'is', 'a', 'sentence', '.']\n",
    "\n",
    "def reverse(alist, d, e, f, g, h):\n",
    "    alist[d], alist[e], alist[f], alist[g], alist[h] = alist[h], alist[g], alist[f], alist[e], alist[d]\n",
    "    return alist\n",
    "\n",
    "reverse(words,0,1,2,3,4)\n"
   ]
  },
  {
   "cell_type": "code",
   "execution_count": null,
   "metadata": {},
   "outputs": [],
   "source": [
    "words = ['this' , 'is', 'a', 'sentence', '.']\n",
    "\n",
    "# Reversing list and each string at the same time\n",
    "def reverse(alist, d, e, f, g, h):\n",
    "    alist[d], alist[e], alist[f], alist[g], alist[h] = alist[h][::-1], alist[g][::-1], alist[f][::-1], alist[e][::-1], alist[d][::-1]\n",
    "    return alist\n",
    "\n",
    "reverse(words,0,1,2,3,4)"
   ]
  },
  {
   "cell_type": "markdown",
   "metadata": {},
   "source": [
    "### Exercise #2 <br>\n",
    "<p>Create a function that counts how many distinct words are in the string below, then outputs a dictionary with the words as the key and the value as the amount of times that word appears in the string.<br>Should output:<br>{'a': 5,<br>\n",
    " 'abstract': 1,<br>\n",
    " 'an': 3,<br>\n",
    " 'array': 2, ... etc...</p>"
   ]
  },
  {
   "cell_type": "code",
   "execution_count": 5,
   "metadata": {
    "scrolled": true
   },
   "outputs": [
    {
     "data": {
      "text/plain": [
       "[('a', 5),\n",
       " ('abstract', 1),\n",
       " ('an', 3),\n",
       " ('array', 2),\n",
       " ('associative', 1),\n",
       " ('be', 1),\n",
       " ('buckets', 1),\n",
       " ('can', 2),\n",
       " ('compute', 1),\n",
       " ('computing', 1),\n",
       " ('data', 2),\n",
       " ('desired', 1),\n",
       " ('found', 1),\n",
       " ('from', 1),\n",
       " ('function', 1),\n",
       " ('hash', 4),\n",
       " ('implements', 1),\n",
       " ('in', 1),\n",
       " ('index', 1),\n",
       " ('into', 1),\n",
       " ('is', 1),\n",
       " ('keys', 1),\n",
       " ('map', 2),\n",
       " ('of', 1),\n",
       " ('or', 1),\n",
       " ('slots', 1),\n",
       " ('structure', 2),\n",
       " ('table', 2),\n",
       " ('that', 1),\n",
       " ('the', 1),\n",
       " ('to', 2),\n",
       " ('type', 1),\n",
       " ('uses', 1),\n",
       " ('value', 1),\n",
       " ('values.', 1),\n",
       " ('which', 2)]"
      ]
     },
     "execution_count": 5,
     "metadata": {},
     "output_type": "execute_result"
    }
   ],
   "source": [
    "a_text = 'In computing, a hash table hash map is a data structure which implements an associative array abstract data type, a structure that can map keys to values. A hash table uses a hash function to compute an index into an array of buckets or slots from which the desired value can be found'\n",
    "\n",
    "#search for things that create dictionaries\n",
    "# parse through string and mind the punctuations\n",
    "\n",
    "\n",
    "# add words to dictionary and loop and keep adding only if word not in dictionary\n",
    "# maybe use a counter for when a word is already in dictionary, to count/add to value of word as a value\n",
    "# maybe something like for k,y in dict: y += 1\n",
    "\n",
    "def word_count(string):\n",
    "    word_dict = {}\n",
    "    alist = string.lower().split(',')\n",
    "    \n",
    "    for sentence in alist:\n",
    "        words = sentence.split()\n",
    "        for word in words:\n",
    "            if word in word_dict:\n",
    "                word_dict[word] += 1\n",
    "            else:\n",
    "                word_dict[word] = 1\n",
    "    return sorted(word_dict.items())\n",
    "            \n",
    "word_count(a_text)"
   ]
  },
  {
   "cell_type": "markdown",
   "metadata": {},
   "source": [
    "## Exercise #3\n",
    "\n",
    "Write a program to implement a Linear Search Algorithm. Also in a comment, write the Time Complexity of the following algorithm.\n",
    "\n",
    "#### Hint: Linear Searching will require searching a list for a given number. "
   ]
  },
  {
   "cell_type": "code",
   "execution_count": 8,
   "metadata": {},
   "outputs": [
    {
     "data": {
      "text/plain": [
       "[1, 7, 8, 10, 14, 16, 21, 25, 92, 93]"
      ]
     },
     "execution_count": 8,
     "metadata": {},
     "output_type": "execute_result"
    }
   ],
   "source": [
    "def swapping(d,e,alist):\n",
    "    alist[d],alist[e] = alist[e],alist[d]\n",
    "    \n",
    "def sorting(alist):\n",
    "    for d in range(1,len(alist)):\n",
    "        e = d\n",
    "        while e > 0 and alist[e] < alist[e - 1]:\n",
    "            swapping(e, e - 1, alist)\n",
    "            e -= 1\n",
    "    return alist\n",
    "\n",
    "\n",
    "sorting([8,1,10,14,16,25,92,93,21,7])\n",
    "\n",
    "# Time Complexity : O(n^2)"
   ]
  },
  {
   "cell_type": "code",
   "execution_count": null,
   "metadata": {},
   "outputs": [],
   "source": []
  }
 ],
 "metadata": {
  "kernelspec": {
   "display_name": "Python 3",
   "language": "python",
   "name": "python3"
  },
  "language_info": {
   "codemirror_mode": {
    "name": "ipython",
    "version": 3
   },
   "file_extension": ".py",
   "mimetype": "text/x-python",
   "name": "python",
   "nbconvert_exporter": "python",
   "pygments_lexer": "ipython3",
   "version": "3.8.8"
  }
 },
 "nbformat": 4,
 "nbformat_minor": 2
}
